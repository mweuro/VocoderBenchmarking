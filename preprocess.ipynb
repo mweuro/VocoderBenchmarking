{
 "cells": [
  {
   "cell_type": "code",
   "execution_count": 1,
   "metadata": {},
   "outputs": [
    {
     "name": "stderr",
     "output_type": "stream",
     "text": [
      "c:\\Studia\\.conda\\Lib\\inspect.py:988: UserWarning: Module 'speechbrain.pretrained' was deprecated, redirecting to 'speechbrain.inference'. Please update your script. This is a change from SpeechBrain 1.0. See: https://github.com/speechbrain/speechbrain/releases/tag/v1.0.0\n",
      "  if ismodule(module) and hasattr(module, '__file__'):\n"
     ]
    }
   ],
   "source": [
    "import torch\n",
    "import torchaudio\n",
    "import bigvgan\n",
    "import librosa\n",
    "import soundfile as sf\n",
    "from vocos import Vocos\n",
    "import speechbrain as sb\n",
    "from speechbrain.utils.fetching import fetch\n",
    "from speechbrain.utils.data_utils import split_path\n",
    "from speechbrain.lobes.models.FastSpeech2 import mel_spectogram\n",
    "from speechbrain.inference.vocoders import HIFIGAN\n",
    "from speechbrain.inference.vocoders import DiffWaveVocoder\n",
    "from transformers import UnivNetFeatureExtractor, UnivNetModel\n",
    "import librosa\n",
    "import librosa.display\n",
    "import numpy as np\n",
    "from pathlib import Path\n",
    "from scipy.io.wavfile import write\n",
    "import IPython.display as ipd\n",
    "from tqdm import tqdm\n",
    "import os\n",
    "import time\n",
    "from torch import nn"
   ]
  },
  {
   "cell_type": "code",
   "execution_count": 3,
   "metadata": {},
   "outputs": [],
   "source": [
    "src = [str(file) for file in Path('noised_data').rglob('*') if file.is_file()]"
   ]
  },
  {
   "cell_type": "code",
   "execution_count": 7,
   "metadata": {},
   "outputs": [
    {
     "name": "stderr",
     "output_type": "stream",
     "text": [
      "100%|██████████| 1439/1439 [00:11<00:00, 127.50it/s]\n"
     ]
    }
   ],
   "source": [
    "for src_path in tqdm(src):\n",
    "    new_path = 'noised_data_preprocessed' + src_path[11:]\n",
    "    src_waveform, src_sr = torchaudio.load(src_path)\n",
    "    src_waveform = librosa.resample(src_waveform.numpy(), orig_sr=src_sr, target_sr=16000)\n",
    "    torchaudio.save(new_path, torch.Tensor(src_waveform), 16000)"
   ]
  },
  {
   "cell_type": "code",
   "execution_count": 17,
   "metadata": {},
   "outputs": [],
   "source": [
    "src = [str(file) for file in Path('noised_data_preprocessed').rglob('*') if file.is_file()]"
   ]
  },
  {
   "cell_type": "code",
   "execution_count": 18,
   "metadata": {},
   "outputs": [
    {
     "name": "stderr",
     "output_type": "stream",
     "text": [
      "100%|██████████| 1439/1439 [00:27<00:00, 52.18it/s]\n"
     ]
    }
   ],
   "source": [
    "for model in ['bigvgan', 'diffwave', 'hifigan', 'univnet', 'vocos', 'waveglow', 'griffinlim'][-1:]:\n",
    "    gen = [str(file) for file in Path(f'noised_generated/{model}').rglob('*') if file.is_file()]\n",
    "    for src_path, gen_path in tqdm(list(zip(src, gen))):\n",
    "        new_path = 'noised_generated_preprocessed' + gen_path[16:]\n",
    "        src_waveform, src_sr = torchaudio.load(src_path)\n",
    "        gen_waveform, gen_sr = torchaudio.load(gen_path)\n",
    "\n",
    "        src_waveform = src_waveform[0].numpy()\n",
    "        gen_waveform = gen_waveform[0].numpy()\n",
    "\n",
    "        # zmiana próbkowania dla dopasowania do oryginału\n",
    "        if src_sr != gen_sr:\n",
    "            new_gen_wave = librosa.resample(gen_waveform, orig_sr=gen_sr, target_sr=src_sr)\n",
    "        else:\n",
    "            new_gen_wave = gen_waveform\n",
    "            \n",
    "        # new_gen_wave = librosa.effects.time_stretch(new_gen_wave, rate=(len(new_gen_wave) / len(src_waveform))) # dopasowanie długości\n",
    "        new_gen_wave *= float(max(np.abs(src_waveform)) / max(np.abs(new_gen_wave))) # dostosowanie amplitudy\n",
    "\n",
    "        torchaudio.save(new_path, torch.Tensor(new_gen_wave).unsqueeze(0), src_sr)"
   ]
  }
 ],
 "metadata": {
  "kernelspec": {
   "display_name": "Python 3",
   "language": "python",
   "name": "python3"
  },
  "language_info": {
   "codemirror_mode": {
    "name": "ipython",
    "version": 3
   },
   "file_extension": ".py",
   "mimetype": "text/x-python",
   "name": "python",
   "nbconvert_exporter": "python",
   "pygments_lexer": "ipython3",
   "version": "3.11.9"
  }
 },
 "nbformat": 4,
 "nbformat_minor": 2
}
