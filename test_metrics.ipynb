{
 "cells": [
  {
   "cell_type": "code",
   "execution_count": 2,
   "metadata": {},
   "outputs": [
    {
     "name": "stderr",
     "output_type": "stream",
     "text": [
      "c:\\Studia\\.conda\\Lib\\inspect.py:988: UserWarning: Module 'speechbrain.pretrained' was deprecated, redirecting to 'speechbrain.inference'. Please update your script. This is a change from SpeechBrain 1.0. See: https://github.com/speechbrain/speechbrain/releases/tag/v1.0.0\n",
      "  if ismodule(module) and hasattr(module, '__file__'):\n"
     ]
    }
   ],
   "source": [
    "import torch\n",
    "import torchaudio\n",
    "import bigvgan\n",
    "import librosa\n",
    "import soundfile as sf\n",
    "from vocos import Vocos\n",
    "import speechbrain as sb\n",
    "from speechbrain.utils.fetching import fetch\n",
    "from speechbrain.utils.data_utils import split_path\n",
    "from speechbrain.lobes.models.FastSpeech2 import mel_spectogram\n",
    "from speechbrain.inference.vocoders import HIFIGAN\n",
    "from speechbrain.inference.vocoders import DiffWaveVocoder\n",
    "from transformers import UnivNetFeatureExtractor, UnivNetModel\n",
    "import librosa\n",
    "import librosa.display\n",
    "import numpy as np\n",
    "from pathlib import Path\n",
    "from scipy.io.wavfile import write\n",
    "import IPython.display as ipd\n",
    "from tqdm import tqdm\n",
    "import os\n",
    "import time\n",
    "from torch import nn\n",
    "import pandas as pd"
   ]
  },
  {
   "cell_type": "code",
   "execution_count": 3,
   "metadata": {},
   "outputs": [],
   "source": [
    "DEVICE = torch.device('cuda') if torch.cuda.is_available() else torch.device('cpu')"
   ]
  },
  {
   "cell_type": "markdown",
   "metadata": {},
   "source": [
    "# Przetworzenie plików za pomocą modeli"
   ]
  },
  {
   "cell_type": "code",
   "execution_count": 4,
   "metadata": {},
   "outputs": [],
   "source": [
    "def get_mel_from_file(file_path, n_mels, sr=22050, compression=True):\n",
    "    signal, rate = librosa.load(file_path, sr=sr, mono=True)\n",
    "    signal = torch.FloatTensor(signal)\n",
    "    spectrogram, _ = mel_spectogram(\n",
    "        audio=signal,\n",
    "        sample_rate=rate,\n",
    "        hop_length=256,\n",
    "        win_length=1024,\n",
    "        n_mels=n_mels,\n",
    "        n_fft=1024,\n",
    "        f_min=0.0,\n",
    "        f_max=8000.0,\n",
    "        power=1,\n",
    "        normalized=False,\n",
    "        min_max_energy_norm=True,\n",
    "        norm=\"slaney\",\n",
    "        mel_scale=\"slaney\",\n",
    "        compression=compression\n",
    "    )\n",
    "\n",
    "    return spectrogram"
   ]
  },
  {
   "cell_type": "code",
   "execution_count": 7,
   "metadata": {},
   "outputs": [],
   "source": [
    "DATASET = 'cremad'"
   ]
  },
  {
   "cell_type": "code",
   "execution_count": 12,
   "metadata": {},
   "outputs": [],
   "source": [
    "files_to_process = [str(file) for file in Path(f'{DATASET}/data').rglob('*') if file.is_file()]"
   ]
  },
  {
   "cell_type": "code",
   "execution_count": 15,
   "metadata": {},
   "outputs": [
    {
     "data": {
      "text/plain": [
       "1439"
      ]
     },
     "execution_count": 15,
     "metadata": {},
     "output_type": "execute_result"
    }
   ],
   "source": [
    "len(files_to_process)"
   ]
  },
  {
   "cell_type": "code",
   "execution_count": 13,
   "metadata": {},
   "outputs": [
    {
     "data": {
      "text/plain": [
       "744"
      ]
     },
     "execution_count": 13,
     "metadata": {},
     "output_type": "execute_result"
    }
   ],
   "source": [
    "len(files_to_process)"
   ]
  },
  {
   "cell_type": "markdown",
   "metadata": {},
   "source": [
    "### HiFi-GAN"
   ]
  },
  {
   "cell_type": "code",
   "execution_count": 14,
   "metadata": {},
   "outputs": [
    {
     "name": "stderr",
     "output_type": "stream",
     "text": [
      "100%|██████████| 744/744 [07:47<00:00,  1.59it/s]"
     ]
    },
    {
     "name": "stdout",
     "output_type": "stream",
     "text": [
      "Średni czas przetwarzania: 0.6126625938441164\n"
     ]
    },
    {
     "name": "stderr",
     "output_type": "stream",
     "text": [
      "\n"
     ]
    }
   ],
   "source": [
    "hifi_gan = HIFIGAN.from_hparams(source=\"speechbrain/tts-hifigan-libritts-22050Hz\", savedir=\"pretrained_models/tts-hifigan-libritts-22050Hz\")\n",
    "\n",
    "times = []\n",
    "for file_path in tqdm(files_to_process):\n",
    "    spectrogram = get_mel_from_file(file_path, 80)\n",
    "    \n",
    "    start = time.time()\n",
    "    waveforms = hifi_gan.decode_batch(spectrogram)\n",
    "    end = time.time()\n",
    "    times.append(end-start)\n",
    "\n",
    "    if not os.path.exists(f'{DATASET}/generated/hifigan'):\n",
    "        os.makedirs(f'{DATASET}/generated/hifigan')\n",
    "    torchaudio.save(f'{DATASET}/generated\\\\hifigan\\\\' + file_path[11:], waveforms.squeeze(1), 22050)\n",
    "print('Średni czas przetwarzania:', np.mean(times))"
   ]
  },
  {
   "cell_type": "markdown",
   "metadata": {},
   "source": [
    "### Vocos"
   ]
  },
  {
   "cell_type": "code",
   "execution_count": 15,
   "metadata": {},
   "outputs": [],
   "source": [
    "class FeatureExtractor(nn.Module):\n",
    "    \"\"\"Base class for feature extractors.\"\"\"\n",
    "\n",
    "    def forward(self, audio: torch.Tensor, **kwargs) -> torch.Tensor:\n",
    "        \"\"\"\n",
    "        Extract features from the given audio.\n",
    "\n",
    "        Args:\n",
    "            audio (Tensor): Input audio waveform.\n",
    "\n",
    "        Returns:\n",
    "            Tensor: Extracted features of shape (B, C, L), where B is the batch size,\n",
    "                    C denotes output features, and L is the sequence length.\n",
    "        \"\"\"\n",
    "        raise NotImplementedError(\"Subclasses must implement the forward method.\")\n",
    "\n",
    "\n",
    "class MelSpectrogramFeatures(FeatureExtractor):\n",
    "    def __init__(self, sample_rate=24000, n_fft=1024, hop_length=256, n_mels=100, padding=\"center\"):\n",
    "        super().__init__()\n",
    "        if padding not in [\"center\", \"same\"]:\n",
    "            raise ValueError(\"Padding must be 'center' or 'same'.\")\n",
    "        self.padding = padding\n",
    "        self.mel_spec = torchaudio.transforms.MelSpectrogram(\n",
    "            sample_rate=sample_rate,\n",
    "            n_fft=n_fft,\n",
    "            hop_length=hop_length,\n",
    "            n_mels=n_mels,\n",
    "            center=padding == \"center\",\n",
    "            power=1,\n",
    "        )\n",
    "\n",
    "    def forward(self, audio, **kwargs):\n",
    "        if self.padding == \"same\":\n",
    "            pad = self.mel_spec.win_length - self.mel_spec.hop_length\n",
    "            audio = torch.nn.functional.pad(audio, (pad // 2, pad // 2), mode=\"reflect\")\n",
    "        mel = self.mel_spec(audio)\n",
    "        features = safe_log(mel)\n",
    "        return features\n",
    "\n",
    "def safe_log(x: torch.Tensor, clip_val: float = 1e-7) -> torch.Tensor:\n",
    "    \"\"\"\n",
    "    Computes the element-wise logarithm of the input tensor with clipping to avoid near-zero values.\n",
    "\n",
    "    Args:\n",
    "        x (Tensor): Input tensor.\n",
    "        clip_val (float, optional): Minimum value to clip the input tensor. Defaults to 1e-7.\n",
    "\n",
    "    Returns:\n",
    "        Tensor: Element-wise logarithm of the input tensor with clipping applied.\n",
    "    \"\"\"\n",
    "    return torch.log(torch.clip(x, min=clip_val))"
   ]
  },
  {
   "cell_type": "code",
   "execution_count": 17,
   "metadata": {},
   "outputs": [
    {
     "name": "stderr",
     "output_type": "stream",
     "text": [
      "100%|██████████| 744/744 [00:06<00:00, 110.86it/s]"
     ]
    },
    {
     "name": "stdout",
     "output_type": "stream",
     "text": [
      "Średni czas przetwarzania: 0.004442076208770916\n"
     ]
    },
    {
     "name": "stderr",
     "output_type": "stream",
     "text": [
      "\n"
     ]
    }
   ],
   "source": [
    "vocos = Vocos.from_pretrained(\"charactr/vocos-mel-24khz\").to(DEVICE)\n",
    "feature_extractor = MelSpectrogramFeatures(\n",
    "    sample_rate=24000,\n",
    "    n_fft=1024,\n",
    "    hop_length=256,\n",
    "    n_mels=100,\n",
    "    padding=\"center\"\n",
    ")\n",
    "\n",
    "times = []\n",
    "for file_path in tqdm(files_to_process):\n",
    "    resample_transform = torchaudio.transforms.Resample(orig_freq=16000, new_freq=24000)\n",
    "    waveform, sr = torchaudio.load(file_path)\n",
    "    if sr != 24000:\n",
    "        waveform = resample_transform(waveform)\n",
    "    spectrogram = feature_extractor(waveform).to(DEVICE)\n",
    "\n",
    "    start = time.time()\n",
    "    \n",
    "    waveforms = vocos.decode(spectrogram)\n",
    "\n",
    "    end = time.time()\n",
    "    times.append(end-start)\n",
    "    \n",
    "    if not os.path.exists(f'{DATASET}/generated/vocos'):\n",
    "        os.makedirs(f'{DATASET}/generated/vocos')\n",
    "    torchaudio.save(f'{DATASET}/generated\\\\vocos\\\\' + file_path[11:], waveforms.cpu().squeeze(1), 24000)\n",
    "\n",
    "print('Średni czas przetwarzania:', np.mean(times))"
   ]
  },
  {
   "cell_type": "markdown",
   "metadata": {},
   "source": [
    "### BigV-GAN"
   ]
  },
  {
   "cell_type": "code",
   "execution_count": 19,
   "metadata": {},
   "outputs": [
    {
     "name": "stdout",
     "output_type": "stream",
     "text": [
      "Loading weights from nvidia/bigvgan_v2_24khz_100band_256x\n",
      "Removing weight norm...\n"
     ]
    },
    {
     "name": "stderr",
     "output_type": "stream",
     "text": [
      "100%|██████████| 744/744 [02:19<00:00,  5.33it/s]"
     ]
    },
    {
     "name": "stdout",
     "output_type": "stream",
     "text": [
      "Średni czas przetwarzania: 0.18139281228024473\n"
     ]
    },
    {
     "name": "stderr",
     "output_type": "stream",
     "text": [
      "\n"
     ]
    }
   ],
   "source": [
    "model = bigvgan.BigVGAN.from_pretrained('nvidia/bigvgan_v2_24khz_100band_256x', use_cuda_kernel=False)\n",
    "model.remove_weight_norm()\n",
    "model = model.eval().to(DEVICE)\n",
    "\n",
    "times = []\n",
    "for file_path in tqdm(files_to_process):\n",
    "    spectrogram = get_mel_from_file(file_path, 100, sr=model.h.sampling_rate)\n",
    "\n",
    "    start = time.time()\n",
    "    \n",
    "    with torch.inference_mode():\n",
    "        waveforms = model(spectrogram.unsqueeze(0).to(DEVICE)).squeeze(0).cpu()\n",
    "\n",
    "    end = time.time()\n",
    "    times.append(end-start)\n",
    "    \n",
    "    if not os.path.exists(f'{DATASET}/generated/bigvgan'):\n",
    "        os.makedirs(f'{DATASET}/generated/bigvgan')\n",
    "    torchaudio.save(f'{DATASET}/generated\\\\bigvgan\\\\' + file_path[11:], waveforms.squeeze(1), model.h.sampling_rate)\n",
    "\n",
    "print('Średni czas przetwarzania:', np.mean(times))"
   ]
  },
  {
   "cell_type": "markdown",
   "metadata": {},
   "source": [
    "### DiffWave"
   ]
  },
  {
   "cell_type": "code",
   "execution_count": 24,
   "metadata": {},
   "outputs": [
    {
     "name": "stderr",
     "output_type": "stream",
     "text": [
      "c:\\Studia\\.conda\\Lib\\site-packages\\speechbrain\\utils\\checkpoints.py:194: FutureWarning: You are using `torch.load` with `weights_only=False` (the current default value), which uses the default pickle module implicitly. It is possible to construct malicious pickle data which will execute arbitrary code during unpickling (See https://github.com/pytorch/pytorch/blob/main/SECURITY.md#untrusted-models for more details). In a future release, the default value for `weights_only` will be flipped to `True`. This limits the functions that could be executed during unpickling. Arbitrary objects will no longer be allowed to be loaded via this mode unless they are explicitly allowlisted by the user via `torch.serialization.add_safe_globals`. We recommend you start setting `weights_only=True` for any use case where you don't have full control of the loaded file. Please open an issue on GitHub for any issues related to this experimental feature.\n",
      "  state_dict = torch.load(path, map_location=device)\n",
      "100%|██████████| 744/744 [1:36:22<00:00,  7.77s/it]    "
     ]
    },
    {
     "name": "stdout",
     "output_type": "stream",
     "text": [
      "Średni czas przetwarzania: 7.764235004942904\n"
     ]
    },
    {
     "name": "stderr",
     "output_type": "stream",
     "text": [
      "\n"
     ]
    }
   ],
   "source": [
    "diffwave = DiffWaveVocoder.from_hparams(source=\"speechbrain/tts-diffwave-ljspeech\", savedir=\"pretrained_models/tts-diffwave-ljspeech\")\n",
    "\n",
    "times = []\n",
    "for file_path in tqdm(files_to_process):\n",
    "    spectrogram = get_mel_from_file(file_path, 80)\n",
    "    \n",
    "    start = time.time()\n",
    "    \n",
    "    waveforms = diffwave.decode_batch(\n",
    "        spectrogram,\n",
    "        hop_len=256,\n",
    "        fast_sampling=True,\n",
    "        fast_sampling_noise_schedule=[0.0001, 0.001, 0.01, 0.05, 0.2, 0.5],\n",
    "    )\n",
    "\n",
    "    end = time.time()\n",
    "    times.append(end-start)\n",
    "    \n",
    "    if not os.path.exists(f'{DATASET}/generated/diffwave'):\n",
    "        os.makedirs(f'{DATASET}/generated/diffwave')\n",
    "    torchaudio.save(f'{DATASET}/generated\\\\diffwave\\\\' + file_path[11:], waveforms.squeeze(1), 22050)\n",
    "\n",
    "print('Średni czas przetwarzania:', np.mean(times))"
   ]
  },
  {
   "cell_type": "markdown",
   "metadata": {},
   "source": [
    "### UnivNet"
   ]
  },
  {
   "cell_type": "code",
   "execution_count": 21,
   "metadata": {},
   "outputs": [
    {
     "name": "stderr",
     "output_type": "stream",
     "text": [
      "  0%|          | 0/744 [00:00<?, ?it/s]C:\\Users\\wikto\\AppData\\Local\\Temp\\ipykernel_81608\\4000950610.py:19: UserWarning: Creating a tensor from a list of numpy.ndarrays is extremely slow. Please consider converting the list to a single numpy.ndarray with numpy.array() before converting to a tensor. (Triggered internally at C:\\actions-runner\\_work\\pytorch\\pytorch\\builder\\windows\\pytorch\\torch\\csrc\\utils\\tensor_new.cpp:281.)\n",
      "  waveforms = torch.Tensor(feature_extractor.batch_decode(**waveforms))\n",
      "100%|██████████| 744/744 [02:24<00:00,  5.15it/s]"
     ]
    },
    {
     "name": "stdout",
     "output_type": "stream",
     "text": [
      "Średni czas przetwarzania: 0.1850317819144136\n"
     ]
    },
    {
     "name": "stderr",
     "output_type": "stream",
     "text": [
      "\n"
     ]
    }
   ],
   "source": [
    "model_id_or_path = \"dg845/univnet-dev\"\n",
    "model = UnivNetModel.from_pretrained(model_id_or_path)\n",
    "feature_extractor = UnivNetFeatureExtractor.from_pretrained(model_id_or_path)\n",
    "\n",
    "times = []\n",
    "for file_path in tqdm(files_to_process):\n",
    "    input_audio, sampling_rate = librosa.load(file_path, sr=feature_extractor.sampling_rate)\n",
    "    inputs = feature_extractor(\n",
    "        input_audio, \n",
    "        sampling_rate=sampling_rate, \n",
    "        pad_end=True, \n",
    "        return_tensors=\"pt\"\n",
    "    )\n",
    "\n",
    "    start = time.time()\n",
    "    \n",
    "    with torch.no_grad():\n",
    "        waveforms = model(**inputs)\n",
    "    waveforms = torch.Tensor(feature_extractor.batch_decode(**waveforms))\n",
    "    \n",
    "    end = time.time()\n",
    "    times.append(end-start)\n",
    "    \n",
    "    if not os.path.exists(f'{DATASET}/generated/univnet'):\n",
    "        os.makedirs(f'{DATASET}/generated/univnet')\n",
    "    torchaudio.save(f'{DATASET}/generated\\\\univnet\\\\' + file_path[11:], waveforms.squeeze(1), feature_extractor.sampling_rate)\n",
    "\n",
    "print('Średni czas przetwarzania:', np.mean(times))"
   ]
  },
  {
   "cell_type": "markdown",
   "metadata": {},
   "source": [
    "### WaveGlow"
   ]
  },
  {
   "cell_type": "code",
   "execution_count": 23,
   "metadata": {},
   "outputs": [
    {
     "name": "stderr",
     "output_type": "stream",
     "text": [
      "Using cache found in C:\\Users\\wikto/.cache\\torch\\hub\\NVIDIA_DeepLearningExamples_torchhub\n",
      "C:\\Users\\wikto/.cache\\torch\\hub\\NVIDIA_DeepLearningExamples_torchhub\\PyTorch\\Classification\\ConvNets\\image_classification\\models\\common.py:13: UserWarning: pytorch_quantization module not found, quantization will not be available\n",
      "  warnings.warn(\n",
      "C:\\Users\\wikto/.cache\\torch\\hub\\NVIDIA_DeepLearningExamples_torchhub\\PyTorch\\Classification\\ConvNets\\image_classification\\models\\efficientnet.py:17: UserWarning: pytorch_quantization module not found, quantization will not be available\n",
      "  warnings.warn(\n",
      "C:\\Users\\wikto/.cache\\torch\\hub\\NVIDIA_DeepLearningExamples_torchhub\\PyTorch\\SpeechSynthesis\\Tacotron2\\waveglow\\entrypoints.py:96: FutureWarning: You are using `torch.load` with `weights_only=False` (the current default value), which uses the default pickle module implicitly. It is possible to construct malicious pickle data which will execute arbitrary code during unpickling (See https://github.com/pytorch/pytorch/blob/main/SECURITY.md#untrusted-models for more details). In a future release, the default value for `weights_only` will be flipped to `True`. This limits the functions that could be executed during unpickling. Arbitrary objects will no longer be allowed to be loaded via this mode unless they are explicitly allowlisted by the user via `torch.serialization.add_safe_globals`. We recommend you start setting `weights_only=True` for any use case where you don't have full control of the loaded file. Please open an issue on GitHub for any issues related to this experimental feature.\n",
      "  ckpt = torch.load(ckpt_file)\n",
      "100%|██████████| 744/744 [07:10<00:00,  1.73it/s]"
     ]
    },
    {
     "name": "stdout",
     "output_type": "stream",
     "text": [
      "Średni czas przetwarzania: 0.2318938127768937\n"
     ]
    },
    {
     "name": "stderr",
     "output_type": "stream",
     "text": [
      "\n"
     ]
    }
   ],
   "source": [
    "waveglow = torch.hub.load('NVIDIA/DeepLearningExamples:torchhub', 'nvidia_waveglow', model_math='fp32')\n",
    "waveglow = waveglow.to(DEVICE)\n",
    "\n",
    "times = []\n",
    "for file_path in tqdm(files_to_process):\n",
    "    y, sr = librosa.load(file_path, sr=22050, mono=True)\n",
    "    spectrogram = librosa.feature.melspectrogram(y=y, sr=sr, n_fft=1024, hop_length=256, win_length=1024, n_mels=80, fmin=0, fmax=8000)\n",
    "    log_mel_spectrogram = np.log(spectrogram + 1e-6)\n",
    "    mel_input = torch.tensor(log_mel_spectrogram).unsqueeze(0).float().to(DEVICE)\n",
    "\n",
    "    start = time.time()\n",
    "    \n",
    "    with torch.no_grad():\n",
    "        waveforms = waveglow.infer(mel_input)\n",
    "\n",
    "    end = time.time()\n",
    "    times.append(end-start)\n",
    "    \n",
    "    if not os.path.exists(f'{DATASET}/generated/waveglow'):\n",
    "        os.makedirs(f'{DATASET}/generated/waveglow')\n",
    "    torchaudio.save(f'{DATASET}/generated\\\\waveglow\\\\' + file_path[11:], waveforms.squeeze(1).cpu(), 22050)\n",
    "\n",
    "print('Średni czas przetwarzania:', np.mean(times))"
   ]
  },
  {
   "cell_type": "markdown",
   "metadata": {},
   "source": [
    "### Griffin-Lim"
   ]
  },
  {
   "cell_type": "code",
   "execution_count": 22,
   "metadata": {},
   "outputs": [
    {
     "name": "stderr",
     "output_type": "stream",
     "text": [
      "100%|██████████| 744/744 [02:13<00:00,  5.59it/s]"
     ]
    },
    {
     "name": "stdout",
     "output_type": "stream",
     "text": [
      "Średni czas przetwarzania: 0.1737123711775708\n"
     ]
    },
    {
     "name": "stderr",
     "output_type": "stream",
     "text": [
      "\n"
     ]
    }
   ],
   "source": [
    "times = []\n",
    "for file_path in tqdm(files_to_process):\n",
    "    spectrogram = get_mel_from_file(file_path, 80, 24000, compression=False)\n",
    "    \n",
    "    start = time.time()\n",
    "    \n",
    "    spectrogram = spectrogram.numpy()\n",
    "    spectrogram = np.maximum(spectrogram, 1e-10)\n",
    "\n",
    "    mel_basis = librosa.filters.mel(sr=24000, n_fft=1024, n_mels=spectrogram.shape[0], fmin=0, fmax=8000)\n",
    "    inv_mel = np.linalg.pinv(mel_basis)\n",
    "    linear_spectrogram = np.dot(inv_mel, spectrogram)\n",
    "\n",
    "    linear_spectrogram = np.maximum(linear_spectrogram, 1e-10)\n",
    "    linear_spectrogram = librosa.db_to_amplitude(librosa.power_to_db(linear_spectrogram))\n",
    "\n",
    "    waveforms = librosa.griffinlim(\n",
    "        linear_spectrogram, \n",
    "        hop_length=256, \n",
    "        win_length=1024, \n",
    "        n_iter=32\n",
    "    )\n",
    "\n",
    "    end = time.time()\n",
    "    times.append(end-start)\n",
    "    \n",
    "    if not os.path.exists(f'{DATASET}/generated/griffinlim'):\n",
    "        os.makedirs(f'{DATASET}/generated/griffinlim')\n",
    "    torchaudio.save(f'{DATASET}/generated\\\\griffinlim\\\\' + file_path[11:], torch.Tensor(waveforms).unsqueeze(0), 24000)\n",
    "\n",
    "print('Średni czas przetwarzania:', np.mean(times))"
   ]
  },
  {
   "cell_type": "markdown",
   "metadata": {},
   "source": [
    "# Liczenie metryk"
   ]
  },
  {
   "cell_type": "code",
   "execution_count": 25,
   "metadata": {},
   "outputs": [
    {
     "name": "stderr",
     "output_type": "stream",
     "text": [
      "Some weights of Wav2Vec2Model were not initialized from the model checkpoint at facebook/wav2vec2-base-960h and are newly initialized: ['wav2vec2.masked_spec_embed']\n",
      "You should probably TRAIN this model on a down-stream task to be able to use it for predictions and inference.\n"
     ]
    }
   ],
   "source": [
    "from scripts.metrics import calculate_metrics_for_all_data"
   ]
  },
  {
   "cell_type": "code",
   "execution_count": 29,
   "metadata": {},
   "outputs": [],
   "source": [
    "models = ['bigvgan', 'diffwave', 'hifigan', 'univnet', 'vocos', 'waveglow', 'griffinlim']\n",
    "src_paths = [str(file) for file in Path(f'{DATASET}/data').rglob('*') if file.is_file()]\n",
    "gen_paths = [[str(file) for file in Path(f'{DATASET}/generated_preprocessed/{model}').rglob('*') if file.is_file()] for model in models]"
   ]
  },
  {
   "cell_type": "markdown",
   "metadata": {},
   "source": [
    "# Crema-d"
   ]
  },
  {
   "cell_type": "code",
   "execution_count": 30,
   "metadata": {},
   "outputs": [
    {
     "name": "stderr",
     "output_type": "stream",
     "text": [
      "7it [02:23, 20.51s/it][00:00<?, ?it/s]\n",
      "7it [02:37, 22.46s/it][02:27<22:07, 147.54s/it]\n",
      "7it [02:31, 21.63s/it][05:10<20:51, 156.49s/it]\n",
      "7it [02:18, 19.80s/it][07:46<18:14, 156.42s/it]\n",
      "7it [02:11, 18.82s/it][10:09<15:05, 150.98s/it]\n",
      "7it [02:13, 19.04s/it][12:24<12:06, 145.40s/it]\n",
      "7it [02:41, 23.14s/it][14:41<09:30, 142.62s/it]\n",
      "7it [02:09, 18.53s/it][17:28<07:31, 150.36s/it]\n",
      "7it [02:11, 18.84s/it][19:41<04:50, 145.01s/it]\n",
      "7it [02:18, 19.77s/it][21:57<02:22, 142.12s/it]\n",
      "100%|██████████| 10/10 [24:20<00:00, 146.06s/it]\n"
     ]
    },
    {
     "data": {
      "text/html": [
       "<div>\n",
       "<style scoped>\n",
       "    .dataframe tbody tr th:only-of-type {\n",
       "        vertical-align: middle;\n",
       "    }\n",
       "\n",
       "    .dataframe tbody tr th {\n",
       "        vertical-align: top;\n",
       "    }\n",
       "\n",
       "    .dataframe thead th {\n",
       "        text-align: right;\n",
       "    }\n",
       "</style>\n",
       "<table border=\"1\" class=\"dataframe\">\n",
       "  <thead>\n",
       "    <tr style=\"text-align: right;\">\n",
       "      <th></th>\n",
       "      <th>bigvgan</th>\n",
       "      <th>diffwave</th>\n",
       "      <th>hifigan</th>\n",
       "      <th>univnet</th>\n",
       "      <th>vocos</th>\n",
       "      <th>waveglow</th>\n",
       "      <th>griffinlim</th>\n",
       "    </tr>\n",
       "  </thead>\n",
       "  <tbody>\n",
       "    <tr>\n",
       "      <th>sdr</th>\n",
       "      <td>15.664125</td>\n",
       "      <td>15.921685</td>\n",
       "      <td>15.523886</td>\n",
       "      <td>17.571468</td>\n",
       "      <td>17.952931</td>\n",
       "      <td>11.301625</td>\n",
       "      <td>7.086614</td>\n",
       "    </tr>\n",
       "    <tr>\n",
       "      <th>fad</th>\n",
       "      <td>0.357112</td>\n",
       "      <td>0.445112</td>\n",
       "      <td>0.699163</td>\n",
       "      <td>0.374934</td>\n",
       "      <td>0.338078</td>\n",
       "      <td>0.428188</td>\n",
       "      <td>1.118215</td>\n",
       "    </tr>\n",
       "    <tr>\n",
       "      <th>kid</th>\n",
       "      <td>0.000132</td>\n",
       "      <td>0.000283</td>\n",
       "      <td>0.000912</td>\n",
       "      <td>0.000197</td>\n",
       "      <td>0.000176</td>\n",
       "      <td>0.000156</td>\n",
       "      <td>0.001384</td>\n",
       "    </tr>\n",
       "    <tr>\n",
       "      <th>mcd</th>\n",
       "      <td>3.703878</td>\n",
       "      <td>3.419508</td>\n",
       "      <td>3.053155</td>\n",
       "      <td>3.018394</td>\n",
       "      <td>2.914233</td>\n",
       "      <td>4.908100</td>\n",
       "      <td>9.622276</td>\n",
       "    </tr>\n",
       "    <tr>\n",
       "      <th>pesq</th>\n",
       "      <td>1.154096</td>\n",
       "      <td>1.876556</td>\n",
       "      <td>2.180296</td>\n",
       "      <td>2.250057</td>\n",
       "      <td>2.982949</td>\n",
       "      <td>1.504267</td>\n",
       "      <td>1.466934</td>\n",
       "    </tr>\n",
       "  </tbody>\n",
       "</table>\n",
       "</div>"
      ],
      "text/plain": [
       "        bigvgan   diffwave    hifigan    univnet      vocos   waveglow  \\\n",
       "sdr   15.664125  15.921685  15.523886  17.571468  17.952931  11.301625   \n",
       "fad    0.357112   0.445112   0.699163   0.374934   0.338078   0.428188   \n",
       "kid    0.000132   0.000283   0.000912   0.000197   0.000176   0.000156   \n",
       "mcd    3.703878   3.419508   3.053155   3.018394   2.914233   4.908100   \n",
       "pesq   1.154096   1.876556   2.180296   2.250057   2.982949   1.504267   \n",
       "\n",
       "      griffinlim  \n",
       "sdr     7.086614  \n",
       "fad     1.118215  \n",
       "kid     0.001384  \n",
       "mcd     9.622276  \n",
       "pesq    1.466934  "
      ]
     },
     "execution_count": 30,
     "metadata": {},
     "output_type": "execute_result"
    }
   ],
   "source": [
    "metrics = calculate_metrics_for_all_data(src_paths, gen_paths, models, 10)\n",
    "pd.DataFrame(metrics)"
   ]
  },
  {
   "cell_type": "markdown",
   "metadata": {},
   "source": [
    "# ravdes"
   ]
  },
  {
   "cell_type": "code",
   "execution_count": 14,
   "metadata": {},
   "outputs": [
    {
     "name": "stderr",
     "output_type": "stream",
     "text": [
      "1it [01:18, 78.95s/it][00:00<?, ?it/s]\n",
      "1it [01:16, 76.37s/it][01:33<13:58, 93.18s/it]\n",
      "1it [01:15, 75.53s/it][03:01<12:04, 90.60s/it]\n",
      "1it [00:59, 59.72s/it][04:31<10:29, 89.91s/it]\n",
      "1it [01:02, 62.47s/it][05:41<08:13, 82.24s/it]\n",
      "1it [01:00, 60.71s/it][06:55<06:37, 79.43s/it]\n",
      "1it [01:01, 61.88s/it][08:08<05:07, 76.91s/it]\n",
      "1it [01:17, 77.58s/it][09:21<03:47, 75.70s/it]\n",
      "1it [01:24, 84.85s/it][10:50<02:40, 80.17s/it]\n",
      "1it [01:08, 68.72s/it][12:27<01:25, 85.20s/it]\n",
      "100%|██████████| 10/10 [13:47<00:00, 82.76s/it]\n"
     ]
    },
    {
     "data": {
      "text/html": [
       "<div>\n",
       "<style scoped>\n",
       "    .dataframe tbody tr th:only-of-type {\n",
       "        vertical-align: middle;\n",
       "    }\n",
       "\n",
       "    .dataframe tbody tr th {\n",
       "        vertical-align: top;\n",
       "    }\n",
       "\n",
       "    .dataframe thead th {\n",
       "        text-align: right;\n",
       "    }\n",
       "</style>\n",
       "<table border=\"1\" class=\"dataframe\">\n",
       "  <thead>\n",
       "    <tr style=\"text-align: right;\">\n",
       "      <th></th>\n",
       "      <th>griffinlim</th>\n",
       "    </tr>\n",
       "  </thead>\n",
       "  <tbody>\n",
       "    <tr>\n",
       "      <th>sdr</th>\n",
       "      <td>17.310499</td>\n",
       "    </tr>\n",
       "    <tr>\n",
       "      <th>fad</th>\n",
       "      <td>0.201146</td>\n",
       "    </tr>\n",
       "    <tr>\n",
       "      <th>kid</th>\n",
       "      <td>0.000095</td>\n",
       "    </tr>\n",
       "    <tr>\n",
       "      <th>mcd</th>\n",
       "      <td>1.134115</td>\n",
       "    </tr>\n",
       "    <tr>\n",
       "      <th>pesq</th>\n",
       "      <td>2.439989</td>\n",
       "    </tr>\n",
       "  </tbody>\n",
       "</table>\n",
       "</div>"
      ],
      "text/plain": [
       "      griffinlim\n",
       "sdr    17.310499\n",
       "fad     0.201146\n",
       "kid     0.000095\n",
       "mcd     1.134115\n",
       "pesq    2.439989"
      ]
     },
     "execution_count": 14,
     "metadata": {},
     "output_type": "execute_result"
    }
   ],
   "source": [
    "metrics_gl = calculate_metrics_for_all_data(src_paths, gen_paths, models, 10)\n",
    "pd.DataFrame(metrics_gl)"
   ]
  },
  {
   "cell_type": "code",
   "execution_count": 39,
   "metadata": {},
   "outputs": [
    {
     "name": "stderr",
     "output_type": "stream",
     "text": [
      "6it [06:48, 68.13s/it][00:00<?, ?it/s]\n",
      "6it [06:35, 65.86s/it][07:02<1:03:22, 422.49s/it]\n",
      "6it [06:48, 68.11s/it][13:49<55:07, 413.44s/it]  \n",
      "6it [06:35, 65.99s/it][20:51<48:40, 417.18s/it]\n",
      "6it [06:45, 67.64s/it][27:39<41:21, 413.54s/it]\n",
      "6it [06:42, 67.09s/it][34:38<34:37, 415.58s/it]\n",
      "6it [06:41, 66.89s/it][41:33<27:41, 415.43s/it]\n",
      "6it [06:40, 66.77s/it][48:26<20:44, 414.78s/it]\n",
      "6it [06:42, 67.08s/it][55:20<13:48, 414.32s/it]\n",
      "6it [05:57, 59.58s/it][1:02:14<06:54, 414.42s/it]\n",
      "100%|██████████| 10/10 [1:08:24<00:00, 410.42s/it]\n"
     ]
    },
    {
     "data": {
      "text/html": [
       "<div>\n",
       "<style scoped>\n",
       "    .dataframe tbody tr th:only-of-type {\n",
       "        vertical-align: middle;\n",
       "    }\n",
       "\n",
       "    .dataframe tbody tr th {\n",
       "        vertical-align: top;\n",
       "    }\n",
       "\n",
       "    .dataframe thead th {\n",
       "        text-align: right;\n",
       "    }\n",
       "</style>\n",
       "<table border=\"1\" class=\"dataframe\">\n",
       "  <thead>\n",
       "    <tr style=\"text-align: right;\">\n",
       "      <th></th>\n",
       "      <th>bigvgan</th>\n",
       "      <th>diffwave</th>\n",
       "      <th>hifigan</th>\n",
       "      <th>univnet</th>\n",
       "      <th>vocos</th>\n",
       "      <th>waveglow</th>\n",
       "    </tr>\n",
       "  </thead>\n",
       "  <tbody>\n",
       "    <tr>\n",
       "      <th>sdr</th>\n",
       "      <td>17.878102</td>\n",
       "      <td>12.248900</td>\n",
       "      <td>17.183513</td>\n",
       "      <td>22.273618</td>\n",
       "      <td>23.081748</td>\n",
       "      <td>14.820803</td>\n",
       "    </tr>\n",
       "    <tr>\n",
       "      <th>fad</th>\n",
       "      <td>0.202845</td>\n",
       "      <td>0.522125</td>\n",
       "      <td>0.232035</td>\n",
       "      <td>0.155997</td>\n",
       "      <td>0.120987</td>\n",
       "      <td>0.419708</td>\n",
       "    </tr>\n",
       "    <tr>\n",
       "      <th>kid</th>\n",
       "      <td>0.000111</td>\n",
       "      <td>0.000706</td>\n",
       "      <td>0.000154</td>\n",
       "      <td>0.000048</td>\n",
       "      <td>0.000015</td>\n",
       "      <td>0.000478</td>\n",
       "    </tr>\n",
       "    <tr>\n",
       "      <th>mcd</th>\n",
       "      <td>1.554180</td>\n",
       "      <td>1.399038</td>\n",
       "      <td>0.976735</td>\n",
       "      <td>0.886405</td>\n",
       "      <td>0.781028</td>\n",
       "      <td>1.674078</td>\n",
       "    </tr>\n",
       "    <tr>\n",
       "      <th>pesq</th>\n",
       "      <td>1.115202</td>\n",
       "      <td>1.109581</td>\n",
       "      <td>3.359060</td>\n",
       "      <td>3.126985</td>\n",
       "      <td>3.718057</td>\n",
       "      <td>1.415296</td>\n",
       "    </tr>\n",
       "  </tbody>\n",
       "</table>\n",
       "</div>"
      ],
      "text/plain": [
       "        bigvgan   diffwave    hifigan    univnet      vocos   waveglow\n",
       "sdr   17.878102  12.248900  17.183513  22.273618  23.081748  14.820803\n",
       "fad    0.202845   0.522125   0.232035   0.155997   0.120987   0.419708\n",
       "kid    0.000111   0.000706   0.000154   0.000048   0.000015   0.000478\n",
       "mcd    1.554180   1.399038   0.976735   0.886405   0.781028   1.674078\n",
       "pesq   1.115202   1.109581   3.359060   3.126985   3.718057   1.415296"
      ]
     },
     "execution_count": 39,
     "metadata": {},
     "output_type": "execute_result"
    }
   ],
   "source": [
    "metrics = calculate_metrics_for_all_data(src_paths, gen_paths, models, 10)\n",
    "pd.DataFrame(metrics)"
   ]
  },
  {
   "cell_type": "code",
   "execution_count": 29,
   "metadata": {},
   "outputs": [
    {
     "name": "stderr",
     "output_type": "stream",
     "text": [
      "7it [6:35:46, 3392.32s/it]00<?, ?it/s]\n",
      "7it [06:51, 58.84s/it][6:35:57<59:23:39, 23757.68s/it]\n",
      "7it [06:48, 58.32s/it][6:42:59<22:17:23, 10030.46s/it]\n",
      "7it [06:14, 53.45s/it][6:49:58<10:58:12, 5641.77s/it] \n",
      "7it [06:23, 54.79s/it][6:56:20<5:56:33, 3565.51s/it] \n",
      "7it [06:43, 57.68s/it][7:02:53<3:21:46, 2421.35s/it]\n",
      "7it [06:39, 57.07s/it][7:09:46<1:55:53, 1738.42s/it]\n",
      "7it [06:33, 56.14s/it][7:16:35<1:05:11, 1303.74s/it]\n",
      "7it [06:39, 57.04s/it][7:23:17<33:53, 1016.81s/it]  \n",
      "7it [06:28, 55.44s/it][7:30:06<13:46, 826.65s/it] \n",
      "100%|██████████| 10/10 [7:36:43<00:00, 2740.32s/it]\n"
     ]
    },
    {
     "data": {
      "text/html": [
       "<div>\n",
       "<style scoped>\n",
       "    .dataframe tbody tr th:only-of-type {\n",
       "        vertical-align: middle;\n",
       "    }\n",
       "\n",
       "    .dataframe tbody tr th {\n",
       "        vertical-align: top;\n",
       "    }\n",
       "\n",
       "    .dataframe thead th {\n",
       "        text-align: right;\n",
       "    }\n",
       "</style>\n",
       "<table border=\"1\" class=\"dataframe\">\n",
       "  <thead>\n",
       "    <tr style=\"text-align: right;\">\n",
       "      <th></th>\n",
       "      <th>bigvgan</th>\n",
       "      <th>diffwave</th>\n",
       "      <th>hifigan</th>\n",
       "      <th>univnet</th>\n",
       "      <th>vocos</th>\n",
       "      <th>waveglow</th>\n",
       "      <th>griffinlim</th>\n",
       "    </tr>\n",
       "  </thead>\n",
       "  <tbody>\n",
       "    <tr>\n",
       "      <th>sdr</th>\n",
       "      <td>18.789853</td>\n",
       "      <td>12.248900</td>\n",
       "      <td>17.183513</td>\n",
       "      <td>22.273618</td>\n",
       "      <td>23.081748</td>\n",
       "      <td>14.820803</td>\n",
       "      <td>23.223327</td>\n",
       "    </tr>\n",
       "    <tr>\n",
       "      <th>fad</th>\n",
       "      <td>0.168095</td>\n",
       "      <td>0.522125</td>\n",
       "      <td>0.232035</td>\n",
       "      <td>0.155997</td>\n",
       "      <td>0.120987</td>\n",
       "      <td>0.419708</td>\n",
       "      <td>0.131220</td>\n",
       "    </tr>\n",
       "    <tr>\n",
       "      <th>kid</th>\n",
       "      <td>0.000067</td>\n",
       "      <td>0.000706</td>\n",
       "      <td>0.000154</td>\n",
       "      <td>0.000048</td>\n",
       "      <td>0.000015</td>\n",
       "      <td>0.000478</td>\n",
       "      <td>0.000022</td>\n",
       "    </tr>\n",
       "    <tr>\n",
       "      <th>mcd</th>\n",
       "      <td>1.037949</td>\n",
       "      <td>1.399038</td>\n",
       "      <td>0.976735</td>\n",
       "      <td>0.886405</td>\n",
       "      <td>0.781028</td>\n",
       "      <td>1.674078</td>\n",
       "      <td>0.789360</td>\n",
       "    </tr>\n",
       "    <tr>\n",
       "      <th>pesq</th>\n",
       "      <td>1.497719</td>\n",
       "      <td>1.109581</td>\n",
       "      <td>3.359060</td>\n",
       "      <td>3.126985</td>\n",
       "      <td>3.718057</td>\n",
       "      <td>1.415296</td>\n",
       "      <td>3.851959</td>\n",
       "    </tr>\n",
       "  </tbody>\n",
       "</table>\n",
       "</div>"
      ],
      "text/plain": [
       "        bigvgan   diffwave    hifigan    univnet      vocos   waveglow  \\\n",
       "sdr   18.789853  12.248900  17.183513  22.273618  23.081748  14.820803   \n",
       "fad    0.168095   0.522125   0.232035   0.155997   0.120987   0.419708   \n",
       "kid    0.000067   0.000706   0.000154   0.000048   0.000015   0.000478   \n",
       "mcd    1.037949   1.399038   0.976735   0.886405   0.781028   1.674078   \n",
       "pesq   1.497719   1.109581   3.359060   3.126985   3.718057   1.415296   \n",
       "\n",
       "      griffinlim  \n",
       "sdr    23.223327  \n",
       "fad     0.131220  \n",
       "kid     0.000022  \n",
       "mcd     0.789360  \n",
       "pesq    3.851959  "
      ]
     },
     "execution_count": 29,
     "metadata": {},
     "output_type": "execute_result"
    }
   ],
   "source": [
    "metrics = calculate_metrics_for_all_data(src_paths, gen_paths, models, 10)\n",
    "pd.DataFrame(metrics)"
   ]
  },
  {
   "cell_type": "code",
   "execution_count": 17,
   "metadata": {},
   "outputs": [
    {
     "name": "stderr",
     "output_type": "stream",
     "text": [
      "7it [03:35, 30.80s/it]00:00<?, ?it/s]\n",
      "100%|██████████| 1/1 [03:40<00:00, 220.67s/it]\n"
     ]
    },
    {
     "data": {
      "text/html": [
       "<div>\n",
       "<style scoped>\n",
       "    .dataframe tbody tr th:only-of-type {\n",
       "        vertical-align: middle;\n",
       "    }\n",
       "\n",
       "    .dataframe tbody tr th {\n",
       "        vertical-align: top;\n",
       "    }\n",
       "\n",
       "    .dataframe thead th {\n",
       "        text-align: right;\n",
       "    }\n",
       "</style>\n",
       "<table border=\"1\" class=\"dataframe\">\n",
       "  <thead>\n",
       "    <tr style=\"text-align: right;\">\n",
       "      <th></th>\n",
       "      <th>bigvgan</th>\n",
       "      <th>diffwave</th>\n",
       "      <th>hifigan</th>\n",
       "      <th>univnet</th>\n",
       "      <th>vocos</th>\n",
       "      <th>waveglow</th>\n",
       "      <th>griffinlim</th>\n",
       "    </tr>\n",
       "  </thead>\n",
       "  <tbody>\n",
       "    <tr>\n",
       "      <th>sdr</th>\n",
       "      <td>18.812045</td>\n",
       "      <td>13.483749</td>\n",
       "      <td>19.276484</td>\n",
       "      <td>19.379320</td>\n",
       "      <td>21.848970</td>\n",
       "      <td>14.860216</td>\n",
       "      <td>21.792383</td>\n",
       "    </tr>\n",
       "    <tr>\n",
       "      <th>fad</th>\n",
       "      <td>0.278577</td>\n",
       "      <td>0.633623</td>\n",
       "      <td>0.448475</td>\n",
       "      <td>0.347725</td>\n",
       "      <td>0.280164</td>\n",
       "      <td>0.527119</td>\n",
       "      <td>0.324665</td>\n",
       "    </tr>\n",
       "    <tr>\n",
       "      <th>kid</th>\n",
       "      <td>0.000103</td>\n",
       "      <td>0.000570</td>\n",
       "      <td>0.000326</td>\n",
       "      <td>0.000179</td>\n",
       "      <td>0.000151</td>\n",
       "      <td>0.000393</td>\n",
       "      <td>0.000167</td>\n",
       "    </tr>\n",
       "    <tr>\n",
       "      <th>mcd</th>\n",
       "      <td>1.009076</td>\n",
       "      <td>2.157805</td>\n",
       "      <td>1.783313</td>\n",
       "      <td>1.687125</td>\n",
       "      <td>1.368798</td>\n",
       "      <td>1.581355</td>\n",
       "      <td>1.348640</td>\n",
       "    </tr>\n",
       "    <tr>\n",
       "      <th>pesq</th>\n",
       "      <td>1.461782</td>\n",
       "      <td>1.126676</td>\n",
       "      <td>1.440835</td>\n",
       "      <td>1.463529</td>\n",
       "      <td>1.954650</td>\n",
       "      <td>1.740679</td>\n",
       "      <td>2.058305</td>\n",
       "    </tr>\n",
       "  </tbody>\n",
       "</table>\n",
       "</div>"
      ],
      "text/plain": [
       "        bigvgan   diffwave    hifigan    univnet      vocos   waveglow  \\\n",
       "sdr   18.812045  13.483749  19.276484  19.379320  21.848970  14.860216   \n",
       "fad    0.278577   0.633623   0.448475   0.347725   0.280164   0.527119   \n",
       "kid    0.000103   0.000570   0.000326   0.000179   0.000151   0.000393   \n",
       "mcd    1.009076   2.157805   1.783313   1.687125   1.368798   1.581355   \n",
       "pesq   1.461782   1.126676   1.440835   1.463529   1.954650   1.740679   \n",
       "\n",
       "      griffinlim  \n",
       "sdr    21.792383  \n",
       "fad     0.324665  \n",
       "kid     0.000167  \n",
       "mcd     1.348640  \n",
       "pesq    2.058305  "
      ]
     },
     "execution_count": 17,
     "metadata": {},
     "output_type": "execute_result"
    }
   ],
   "source": [
    "metrics = calculate_metrics_for_all_data(src_paths, gen_paths, models, 20)\n",
    "pd.DataFrame(metrics)"
   ]
  },
  {
   "cell_type": "code",
   "execution_count": 15,
   "metadata": {},
   "outputs": [
    {
     "name": "stderr",
     "output_type": "stream",
     "text": [
      "7it [06:39, 57.00s/it]00:00<?, ?it/s]\n",
      "100%|██████████| 1/1 [06:55<00:00, 415.72s/it]\n"
     ]
    },
    {
     "data": {
      "text/html": [
       "<div>\n",
       "<style scoped>\n",
       "    .dataframe tbody tr th:only-of-type {\n",
       "        vertical-align: middle;\n",
       "    }\n",
       "\n",
       "    .dataframe tbody tr th {\n",
       "        vertical-align: top;\n",
       "    }\n",
       "\n",
       "    .dataframe thead th {\n",
       "        text-align: right;\n",
       "    }\n",
       "</style>\n",
       "<table border=\"1\" class=\"dataframe\">\n",
       "  <thead>\n",
       "    <tr style=\"text-align: right;\">\n",
       "      <th></th>\n",
       "      <th>bigvgan</th>\n",
       "      <th>diffwave</th>\n",
       "      <th>hifigan</th>\n",
       "      <th>univnet</th>\n",
       "      <th>vocos</th>\n",
       "      <th>waveglow</th>\n",
       "      <th>griffinlim</th>\n",
       "    </tr>\n",
       "  </thead>\n",
       "  <tbody>\n",
       "    <tr>\n",
       "      <th>sdr</th>\n",
       "      <td>19.718965</td>\n",
       "      <td>15.746161</td>\n",
       "      <td>19.322787</td>\n",
       "      <td>18.706240</td>\n",
       "      <td>21.263581</td>\n",
       "      <td>16.972439</td>\n",
       "      <td>21.452104</td>\n",
       "    </tr>\n",
       "    <tr>\n",
       "      <th>fad</th>\n",
       "      <td>0.526801</td>\n",
       "      <td>2.540538</td>\n",
       "      <td>1.034007</td>\n",
       "      <td>0.903713</td>\n",
       "      <td>0.505785</td>\n",
       "      <td>1.997657</td>\n",
       "      <td>0.564923</td>\n",
       "    </tr>\n",
       "    <tr>\n",
       "      <th>kid</th>\n",
       "      <td>0.000221</td>\n",
       "      <td>0.004241</td>\n",
       "      <td>0.001102</td>\n",
       "      <td>0.000738</td>\n",
       "      <td>0.000267</td>\n",
       "      <td>0.003155</td>\n",
       "      <td>0.000218</td>\n",
       "    </tr>\n",
       "    <tr>\n",
       "      <th>mcd</th>\n",
       "      <td>1.029601</td>\n",
       "      <td>1.747640</td>\n",
       "      <td>1.415042</td>\n",
       "      <td>1.370992</td>\n",
       "      <td>1.101304</td>\n",
       "      <td>1.590749</td>\n",
       "      <td>1.035264</td>\n",
       "    </tr>\n",
       "    <tr>\n",
       "      <th>pesq</th>\n",
       "      <td>1.418670</td>\n",
       "      <td>1.194872</td>\n",
       "      <td>1.543204</td>\n",
       "      <td>1.574431</td>\n",
       "      <td>1.841800</td>\n",
       "      <td>1.221364</td>\n",
       "      <td>1.874869</td>\n",
       "    </tr>\n",
       "  </tbody>\n",
       "</table>\n",
       "</div>"
      ],
      "text/plain": [
       "        bigvgan   diffwave    hifigan    univnet      vocos   waveglow  \\\n",
       "sdr   19.718965  15.746161  19.322787  18.706240  21.263581  16.972439   \n",
       "fad    0.526801   2.540538   1.034007   0.903713   0.505785   1.997657   \n",
       "kid    0.000221   0.004241   0.001102   0.000738   0.000267   0.003155   \n",
       "mcd    1.029601   1.747640   1.415042   1.370992   1.101304   1.590749   \n",
       "pesq   1.418670   1.194872   1.543204   1.574431   1.841800   1.221364   \n",
       "\n",
       "      griffinlim  \n",
       "sdr    21.452104  \n",
       "fad     0.564923  \n",
       "kid     0.000218  \n",
       "mcd     1.035264  \n",
       "pesq    1.874869  "
      ]
     },
     "execution_count": 15,
     "metadata": {},
     "output_type": "execute_result"
    }
   ],
   "source": [
    "metrics = calculate_metrics_for_all_data(src_paths, gen_paths, models, 20)\n",
    "pd.DataFrame(metrics)"
   ]
  }
 ],
 "metadata": {
  "kernelspec": {
   "display_name": "Python 3",
   "language": "python",
   "name": "python3"
  },
  "language_info": {
   "codemirror_mode": {
    "name": "ipython",
    "version": 3
   },
   "file_extension": ".py",
   "mimetype": "text/x-python",
   "name": "python",
   "nbconvert_exporter": "python",
   "pygments_lexer": "ipython3",
   "version": "3.11.9"
  }
 },
 "nbformat": 4,
 "nbformat_minor": 2
}
