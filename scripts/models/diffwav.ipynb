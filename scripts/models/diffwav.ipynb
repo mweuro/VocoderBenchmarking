{
 "cells": [
  {
   "cell_type": "code",
   "execution_count": 1,
   "metadata": {},
   "outputs": [
    {
     "name": "stderr",
     "output_type": "stream",
     "text": [
      "/home/mweuro/venvy/NLP/lib/python3.10/site-packages/tqdm/auto.py:21: TqdmWarning: IProgress not found. Please update jupyter and ipywidgets. See https://ipywidgets.readthedocs.io/en/stable/user_install.html\n",
      "  from .autonotebook import tqdm as notebook_tqdm\n",
      "INFO:speechbrain.utils.quirks:Applied quirks (see `speechbrain.utils.quirks`): [allow_tf32, disable_jit_profiling]\n",
      "INFO:speechbrain.utils.quirks:Excluded quirks specified by the `SB_DISABLE_QUIRKS` environment (comma-separated list): []\n",
      "INFO:speechbrain.utils.fetching:Fetch hyperparams.yaml: Fetching from HuggingFace Hub 'speechbrain/tts-diffwave-ljspeech' if not cached\n",
      "INFO:speechbrain.utils.fetching:Fetch custom.py: Fetching from HuggingFace Hub 'speechbrain/tts-diffwave-ljspeech' if not cached\n",
      "INFO:speechbrain.utils.fetching:Fetch diffwave.ckpt: Fetching from HuggingFace Hub 'speechbrain/tts-diffwave-ljspeech' if not cached\n",
      "INFO:speechbrain.utils.parameter_transfer:Loading pretrained files for: diffwave\n",
      "/home/mweuro/venvy/NLP/lib/python3.10/site-packages/speechbrain/utils/checkpoints.py:200: FutureWarning: You are using `torch.load` with `weights_only=False` (the current default value), which uses the default pickle module implicitly. It is possible to construct malicious pickle data which will execute arbitrary code during unpickling (See https://github.com/pytorch/pytorch/blob/main/SECURITY.md#untrusted-models for more details). In a future release, the default value for `weights_only` will be flipped to `True`. This limits the functions that could be executed during unpickling. Arbitrary objects will no longer be allowed to be loaded via this mode unless they are explicitly allowlisted by the user via `torch.serialization.add_safe_globals`. We recommend you start setting `weights_only=True` for any use case where you don't have full control of the loaded file. Please open an issue on GitHub for any issues related to this experimental feature.\n",
      "  state_dict = torch.load(path, map_location=device)\n"
     ]
    }
   ],
   "source": [
    "from speechbrain.inference.vocoders import DiffWaveVocoder\n",
    "\n",
    "# Załaduj pretrenowany model DiffWave\n",
    "vocoder = DiffWaveVocoder.from_hparams(source=\"speechbrain/tts-diffwave-ljspeech\", savedir = \"tmpdir\")\n"
   ]
  },
  {
   "cell_type": "code",
   "execution_count": 2,
   "metadata": {},
   "outputs": [],
   "source": [
    "import librosa\n",
    "import numpy as np\n",
    "\n",
    "# Wczytaj plik audio\n",
    "audio, sr = librosa.load(\"../../data/Actor_01/03-01-01-01-01-01-01.wav\", sr=22050)\n",
    "\n",
    "# Oblicz mel-spektrogram\n",
    "mel_spectrogram = librosa.feature.melspectrogram(y = audio, sr=sr, n_mels=80, fmax=8000)\n",
    "mel_spectrogram = librosa.power_to_db(mel_spectrogram).astype(np.float32)\n"
   ]
  },
  {
   "cell_type": "code",
   "execution_count": 3,
   "metadata": {},
   "outputs": [],
   "source": [
    "import torch\n",
    "\n",
    "mel_spectrogram = torch.tensor(mel_spectrogram).unsqueeze(0)  # Dodaj wymiar batch\n",
    "audio_tensor = torch.tensor(audio).unsqueeze(0)\n"
   ]
  }
 ],
 "metadata": {
  "kernelspec": {
   "display_name": "NLP",
   "language": "python",
   "name": "python3"
  },
  "language_info": {
   "codemirror_mode": {
    "name": "ipython",
    "version": 3
   },
   "file_extension": ".py",
   "mimetype": "text/x-python",
   "name": "python",
   "nbconvert_exporter": "python",
   "pygments_lexer": "ipython3",
   "version": "3.10.12"
  }
 },
 "nbformat": 4,
 "nbformat_minor": 2
}
